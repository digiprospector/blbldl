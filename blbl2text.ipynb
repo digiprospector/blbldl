{
  "nbformat": 4,
  "nbformat_minor": 0,
  "metadata": {
    "colab": {
      "provenance": [],
      "gpuType": "T4",
      "mount_file_id": "1T3De23nGCo19ijqPlwReqOSR5a2ry0IG",
      "authorship_tag": "ABX9TyMT+rP3xMEMka4b0eBIVTOv",
      "include_colab_link": true
    },
    "kernelspec": {
      "name": "python3",
      "display_name": "Python 3"
    },
    "language_info": {
      "name": "python"
    },
    "accelerator": "GPU"
  },
  "cells": [
    {
      "cell_type": "markdown",
      "metadata": {
        "id": "view-in-github",
        "colab_type": "text"
      },
      "source": [
        "<a href=\"https://colab.research.google.com/github/digiprospector/blbldl/blob/main/blbl2text.ipynb\" target=\"_parent\"><img src=\"https://colab.research.google.com/assets/colab-badge.svg\" alt=\"Open In Colab\"/></a>"
      ]
    },
    {
      "cell_type": "markdown",
      "source": [
        "准备环境"
      ],
      "metadata": {
        "id": "FrBUignfAA9-"
      }
    },
    {
      "cell_type": "code",
      "execution_count": null,
      "metadata": {
        "id": "XzH0qSCCPEtj"
      },
      "outputs": [],
      "source": [
        "!chmod +x /content/drive/MyDrive/github/blbldl/blbldl.py\n",
        "!chmod +x /content/drive/MyDrive/fast_whisper_xxl/r245.4/Faster-Whisper-XXL/faster-whisper-xxl\n",
        "!cd /content/drive/MyDrive/github/blbldl && pip install -r requirements.txt\n",
        "!rm /content/audio.mp3 && rm /content/audio.json"
      ]
    },
    {
      "cell_type": "markdown",
      "source": [
        "下载"
      ],
      "metadata": {
        "id": "DczPxIPtAEve"
      }
    },
    {
      "cell_type": "code",
      "source": [
        "import subprocess\n",
        "url = input(\"请输入bilibili链接\")\n",
        "try:\n",
        "    result = subprocess.run([\"python3\", \"/content/drive/MyDrive/github/blbldl/blbldl.py\", url], capture_output=True, text=True, check=True)\n",
        "    print(\"STDOUT:\")\n",
        "    print(result.stdout)\n",
        "    print(\"STDERR:\")\n",
        "    print(result.stderr)\n",
        "except subprocess.CalledProcessError as e:\n",
        "    print(f\"命令执行失败，返回码: {e.returncode}\")\n",
        "    print(f\"STDOUT: {e.stdout}\")\n",
        "    print(f\"STDERR: {e.stderr}\")"
      ],
      "metadata": {
        "id": "4L1P_FTwoYWr"
      },
      "execution_count": null,
      "outputs": []
    },
    {
      "cell_type": "markdown",
      "source": [
        "转换"
      ],
      "metadata": {
        "id": "QFXLYpSJAH9W"
      }
    },
    {
      "cell_type": "code",
      "source": [
        "!/content/drive/MyDrive/fast_whisper_xxl/r245.4/Faster-Whisper-XXL/faster-whisper-xxl audio.mp3 -m large-v2 -l Chinese --vad_method pyannote_v3 --ff_vocal_extract mdx_kim2 --sentence -v true -o source -f txt srt"
      ],
      "metadata": {
        "id": "EpzFC4J8uYF3"
      },
      "execution_count": null,
      "outputs": []
    },
    {
      "cell_type": "markdown",
      "source": [
        "改名,复制"
      ],
      "metadata": {
        "id": "-kAxd8cuAMme"
      }
    },
    {
      "cell_type": "code",
      "source": [
        "import json\n",
        "from datetime import datetime # Import datetime\n",
        "from pathlib import Path\n",
        "import shutil\n",
        "\n",
        "with open(\"audio.json\", \"r\", encoding='utf-8') as f:\n",
        "  j = json.load(f)\n",
        "  fn = f\"[{datetime.fromtimestamp(j.get('datetime')).strftime('%Y-%m-%d_%H-%M-%S')}][{j.get('owner')}][{j.get('title')}][{j.get('bvid')}]\"\n",
        "  new_path = Path(\"/content/drive/MyDrive/audio2txt\") / fn\n",
        "  shutil.copy(Path(\"audio.srt\"), Path(\"/content/drive/MyDrive/audio2txt\") / f\"{fn}.srt\")\n",
        "  shutil.copy(Path(\"audio.txt\"), Path(\"/content/drive/MyDrive/audio2txt\") / f\"{fn}.txt\")\n"
      ],
      "metadata": {
        "id": "pkU4LW-iARN2"
      },
      "execution_count": null,
      "outputs": []
    }
  ]
}